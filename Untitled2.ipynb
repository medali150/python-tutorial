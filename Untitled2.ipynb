{
  "nbformat": 4,
  "nbformat_minor": 0,
  "metadata": {
    "colab": {
      "provenance": [],
      "authorship_tag": "ABX9TyOAF+cLYn3R+52hRumLJbmJ",
      "include_colab_link": true
    },
    "kernelspec": {
      "name": "python3",
      "display_name": "Python 3"
    },
    "language_info": {
      "name": "python"
    }
  },
  "cells": [
    {
      "cell_type": "markdown",
      "metadata": {
        "id": "view-in-github",
        "colab_type": "text"
      },
      "source": [
        "<a href=\"https://colab.research.google.com/github/medali150/python-tutorial/blob/main/Untitled2.ipynb\" target=\"_parent\"><img src=\"https://colab.research.google.com/assets/colab-badge.svg\" alt=\"Open In Colab\"/></a>"
      ]
    },
    {
      "cell_type": "markdown",
      "source": [
        "# ***Install and Get Started with FastAPI***"
      ],
      "metadata": {
        "id": "GzFBCSpNPPal"
      }
    },
    {
      "cell_type": "code",
      "execution_count": 1,
      "metadata": {
        "colab": {
          "base_uri": "https://localhost:8080/"
        },
        "id": "YT8HvXQRPJD8",
        "outputId": "4197076b-9437-44e6-fe63-c23f1be4b1f9"
      },
      "outputs": [
        {
          "output_type": "stream",
          "name": "stdout",
          "text": [
            "Collecting fastapi\n",
            "  Downloading fastapi-0.115.12-py3-none-any.whl.metadata (27 kB)\n",
            "Collecting uvicorn\n",
            "  Downloading uvicorn-0.34.2-py3-none-any.whl.metadata (6.5 kB)\n",
            "Collecting starlette<0.47.0,>=0.40.0 (from fastapi)\n",
            "  Downloading starlette-0.46.2-py3-none-any.whl.metadata (6.2 kB)\n",
            "Requirement already satisfied: pydantic!=1.8,!=1.8.1,!=2.0.0,!=2.0.1,!=2.1.0,<3.0.0,>=1.7.4 in /usr/local/lib/python3.11/dist-packages (from fastapi) (2.11.3)\n",
            "Requirement already satisfied: typing-extensions>=4.8.0 in /usr/local/lib/python3.11/dist-packages (from fastapi) (4.13.2)\n",
            "Requirement already satisfied: click>=7.0 in /usr/local/lib/python3.11/dist-packages (from uvicorn) (8.1.8)\n",
            "Requirement already satisfied: h11>=0.8 in /usr/local/lib/python3.11/dist-packages (from uvicorn) (0.14.0)\n",
            "Requirement already satisfied: annotated-types>=0.6.0 in /usr/local/lib/python3.11/dist-packages (from pydantic!=1.8,!=1.8.1,!=2.0.0,!=2.0.1,!=2.1.0,<3.0.0,>=1.7.4->fastapi) (0.7.0)\n",
            "Requirement already satisfied: pydantic-core==2.33.1 in /usr/local/lib/python3.11/dist-packages (from pydantic!=1.8,!=1.8.1,!=2.0.0,!=2.0.1,!=2.1.0,<3.0.0,>=1.7.4->fastapi) (2.33.1)\n",
            "Requirement already satisfied: typing-inspection>=0.4.0 in /usr/local/lib/python3.11/dist-packages (from pydantic!=1.8,!=1.8.1,!=2.0.0,!=2.0.1,!=2.1.0,<3.0.0,>=1.7.4->fastapi) (0.4.0)\n",
            "Requirement already satisfied: anyio<5,>=3.6.2 in /usr/local/lib/python3.11/dist-packages (from starlette<0.47.0,>=0.40.0->fastapi) (4.9.0)\n",
            "Requirement already satisfied: idna>=2.8 in /usr/local/lib/python3.11/dist-packages (from anyio<5,>=3.6.2->starlette<0.47.0,>=0.40.0->fastapi) (3.10)\n",
            "Requirement already satisfied: sniffio>=1.1 in /usr/local/lib/python3.11/dist-packages (from anyio<5,>=3.6.2->starlette<0.47.0,>=0.40.0->fastapi) (1.3.1)\n",
            "Downloading fastapi-0.115.12-py3-none-any.whl (95 kB)\n",
            "\u001b[2K   \u001b[90m━━━━━━━━━━━━━━━━━━━━━━━━━━━━━━━━━━━━━━━━\u001b[0m \u001b[32m95.2/95.2 kB\u001b[0m \u001b[31m3.8 MB/s\u001b[0m eta \u001b[36m0:00:00\u001b[0m\n",
            "\u001b[?25hDownloading uvicorn-0.34.2-py3-none-any.whl (62 kB)\n",
            "\u001b[2K   \u001b[90m━━━━━━━━━━━━━━━━━━━━━━━━━━━━━━━━━━━━━━━━\u001b[0m \u001b[32m62.5/62.5 kB\u001b[0m \u001b[31m4.3 MB/s\u001b[0m eta \u001b[36m0:00:00\u001b[0m\n",
            "\u001b[?25hDownloading starlette-0.46.2-py3-none-any.whl (72 kB)\n",
            "\u001b[2K   \u001b[90m━━━━━━━━━━━━━━━━━━━━━━━━━━━━━━━━━━━━━━━━\u001b[0m \u001b[32m72.0/72.0 kB\u001b[0m \u001b[31m4.4 MB/s\u001b[0m eta \u001b[36m0:00:00\u001b[0m\n",
            "\u001b[?25hInstalling collected packages: uvicorn, starlette, fastapi\n",
            "Successfully installed fastapi-0.115.12 starlette-0.46.2 uvicorn-0.34.2\n"
          ]
        }
      ],
      "source": [
        "pip install fastapi uvicorn"
      ]
    },
    {
      "cell_type": "code",
      "source": [
        "from fastapi import FastAPI\n",
        "\n",
        "# Create an app\n",
        "app = FastAPI()\n",
        "\n",
        "# define a path for HTTP Get method\n",
        "@app.get(\"/\")\n",
        "def root():\n",
        "    return {\"Hello\": \"World\"}"
      ],
      "metadata": {
        "id": "Rc9q0zzrP1fV"
      },
      "execution_count": 2,
      "outputs": []
    },
    {
      "cell_type": "code",
      "source": [
        "!uvicorn main:app --reload"
      ],
      "metadata": {
        "colab": {
          "base_uri": "https://localhost:8080/"
        },
        "id": "vqwcRP3fP3Kd",
        "outputId": "d5be98a2-954e-4885-ebbb-486c34b5f12e"
      },
      "execution_count": 2,
      "outputs": [
        {
          "output_type": "stream",
          "name": "stdout",
          "text": [
            "/bin/bash: line 1: uvicorn: command not found\n"
          ]
        }
      ]
    },
    {
      "cell_type": "markdown",
      "source": [
        "# ***GET and POST Routes***"
      ],
      "metadata": {
        "id": "j9E1cy-ZScYN"
      }
    },
    {
      "cell_type": "code",
      "source": [
        "items = []"
      ],
      "metadata": {
        "id": "h1HWbBzoSdS2"
      },
      "execution_count": 3,
      "outputs": []
    },
    {
      "cell_type": "code",
      "source": [
        "from fastapi import FastAPI\n",
        "\n",
        "# Create an app\n",
        "app = FastAPI()\n",
        "\n",
        "# define a path for HTTP Get method\n",
        "@app.get(\"/\")\n",
        "def root():\n",
        "    return {\"Hello\": \"World\"}\n",
        "\n",
        "items = []\n",
        "\n",
        "@app.post(\"/items\") # Added / to the beginning of the path\n",
        "def create_item(item: str):\n",
        "    items.append(item)\n",
        "    return item"
      ],
      "metadata": {
        "id": "5PBARBu9SjOk"
      },
      "execution_count": 7,
      "outputs": []
    },
    {
      "source": [
        "!pip install fastapi uvicorn"
      ],
      "cell_type": "code",
      "metadata": {
        "id": "lOpDf9MmSvO8"
      },
      "execution_count": null,
      "outputs": []
    },
    {
      "cell_type": "code",
      "source": [
        "@app.get(\"items/{item_id}\")\n",
        "def get_item(item_id: int) -> str:\n",
        "    item = items[item_id]\n",
        "    return item"
      ],
      "metadata": {
        "id": "gL4QOe_LS_wE"
      },
      "execution_count": 8,
      "outputs": []
    },
    {
      "cell_type": "markdown",
      "source": [
        "# ***Handling HTTP Errors***"
      ],
      "metadata": {
        "id": "sylGQtYqTC7F"
      }
    },
    {
      "cell_type": "code",
      "source": [
        "from fastapi import FastAPI, HTTPException"
      ],
      "metadata": {
        "id": "cETPZZ0vTEDd"
      },
      "execution_count": 9,
      "outputs": []
    },
    {
      "cell_type": "code",
      "source": [
        "@app.get(\"items/{item_id}\")\n",
        "@app.get(\"items/{item_id}\")\n",
        "def get_item(item_id: int) -> str:\n",
        "    if item_id < len(items):\n",
        "        return items[item_id]\n",
        "    else:\n",
        "        raise HTTPException(status_code=404, detail=f\"Item {item_id} not found\")"
      ],
      "metadata": {
        "id": "rs07T09rTHas"
      },
      "execution_count": 11,
      "outputs": []
    },
    {
      "cell_type": "markdown",
      "source": [
        "# ***JSON Request and Path Parameters***"
      ],
      "metadata": {
        "id": "jlp3xX8oTNLM"
      }
    },
    {
      "cell_type": "code",
      "source": [
        "# this endpoint uses a query parameter 'limit'\n",
        "@app.get(\"/items/\")\n",
        "def list_items(limit: int = 10):\n",
        "    return items[0:limit]"
      ],
      "metadata": {
        "id": "F0SLXnzwTKaE"
      },
      "execution_count": 12,
      "outputs": []
    },
    {
      "cell_type": "markdown",
      "source": [
        "# ***Pydantic models***"
      ],
      "metadata": {
        "id": "QTmhJsqnTSgc"
      }
    },
    {
      "cell_type": "code",
      "source": [
        "from pydantic import BaseModel"
      ],
      "metadata": {
        "id": "1slsPeSITQV9"
      },
      "execution_count": 13,
      "outputs": []
    },
    {
      "cell_type": "code",
      "source": [
        "class Item(BaseModel):\n",
        "    text: str = None\n",
        "    is_done: bool = False"
      ],
      "metadata": {
        "id": "niM3LtcYTeU6"
      },
      "execution_count": 14,
      "outputs": []
    },
    {
      "cell_type": "code",
      "source": [
        "...\n",
        "def create_item(item: \"Item\"):\n",
        "  class Item(BaseModel):\n",
        "    # without default value\n",
        "    text: str\n",
        "    is_done: bool = False\n"
      ],
      "metadata": {
        "id": "8xXGxv1ATgKM"
      },
      "execution_count": 18,
      "outputs": []
    },
    {
      "cell_type": "markdown",
      "source": [
        "# ***Response Models***"
      ],
      "metadata": {
        "id": "JgctUPWCTrYk"
      }
    },
    {
      "cell_type": "code",
      "source": [
        "...\n",
        "# Specify the response type will be a list of Item\n",
        "@app.get(\"/items\", response_model=list[Item])\n",
        "def list_item(limit: int = 10):\n",
        "...\n",
        "# Specify the response type will be an Item model\n",
        "@app.get(\"/items/{item_id}\", response_model=Item)\n",
        "def get_item(item_id: int) -> Item:"
      ],
      "metadata": {
        "colab": {
          "base_uri": "https://localhost:8080/",
          "height": 110
        },
        "id": "Ofk7MzMXTtzs",
        "outputId": "745f8f22-6ccd-4762-8b5e-233147e7697e"
      },
      "execution_count": 19,
      "outputs": [
        {
          "output_type": "error",
          "ename": "IndentationError",
          "evalue": "expected an indented block after function definition on line 4 (<ipython-input-19-63c6e993c7b9>, line 5)",
          "traceback": [
            "\u001b[0;36m  File \u001b[0;32m\"<ipython-input-19-63c6e993c7b9>\"\u001b[0;36m, line \u001b[0;32m5\u001b[0m\n\u001b[0;31m    ...\u001b[0m\n\u001b[0m    ^\u001b[0m\n\u001b[0;31mIndentationError\u001b[0m\u001b[0;31m:\u001b[0m expected an indented block after function definition on line 4\n"
          ]
        }
      ]
    },
    {
      "source": [
        "# Specify the response type will be a list of Item\n",
        "@app.get(\"/items\", response_model=list[Item])\n",
        "def list_item(limit: int = 10):\n",
        "    # Return the items within the specified limit\n",
        "    return items[:limit]\n",
        "\n",
        "# Specify the response type will be an Item model\n",
        "@app.get(\"/items/{item_id}\", response_model=Item)\n",
        "def get_item(item_id: int) -> Item:\n",
        "    # Check if item_id is valid and return if found, else raise HTTPException.\n",
        "    if 0 <= item_id < len(items):\n",
        "        return items[item_id]\n",
        "    else:\n",
        "        raise HTTPException(status_code=404, detail=f\"Item {item_id} not found\")"
      ],
      "cell_type": "code",
      "metadata": {
        "id": "RSh-UlumTzXN"
      },
      "execution_count": 20,
      "outputs": []
    }
  ]
}